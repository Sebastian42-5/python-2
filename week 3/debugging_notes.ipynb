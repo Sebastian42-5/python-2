{
 "cells": [
  {
   "cell_type": "code",
   "execution_count": 1,
   "metadata": {},
   "outputs": [
    {
     "name": "stdout",
     "output_type": "stream",
     "text": [
      "Hello world!\n"
     ]
    }
   ],
   "source": [
    "print('Hello world!')"
   ]
  },
  {
   "cell_type": "markdown",
   "metadata": {},
   "source": [
    "# **Program developping process:**\n",
    "\n",
    "- Analyze the problem\n",
    "\n",
    "Understand the program's goals, needs and limitations\n",
    "\n",
    "- Design the problem\n",
    "\n",
    "Break down the problem\n",
    "\n",
    "- Code the program\n",
    "\n",
    "Code your program according to the design determined \n",
    "\n",
    "- Debug the program\n",
    "\n",
    "Find the bugs in the program, print debugging, wolf-fence debugging\n",
    "\n",
    "- Formalize the solution\n",
    "\n",
    "Programmers act as users to test program\n",
    "\n",
    "- Maintenance of program\n",
    "\n",
    "Provide internal documentation \n",
    "\n",
    "Write proper docstrings for each function \n",
    "\n"
   ]
  },
  {
   "cell_type": "markdown",
   "metadata": {},
   "source": [
    "# **Error categories** \n",
    "\n",
    "- Syntax errors\n",
    "\n",
    "Not the correct structure or format \n",
    "\n",
    "- Runtime errors\n",
    "\n",
    "Doing something that is not allowed\n",
    "\n",
    "- Semantic errors \n",
    "\n",
    "Caused when your program does something, just not the right thing\n",
    "You need to identify these errors yourself. Be careful!"
   ]
  },
  {
   "cell_type": "markdown",
   "metadata": {},
   "source": [
    "# **Know your error names**\n",
    "\n",
    "- ParseError \n",
    "\n",
    "Incorrect syntax\n",
    "\n",
    "- TypeError\n",
    "\n",
    "Caused by combining value types that are not compatible\n",
    "\n",
    "\n",
    "- NameError\n",
    "\n",
    "Cause by typos in your code using a variable that hasn't been assigned\n",
    "\n",
    "Name error is a RunTime error\n",
    "\n",
    "- ValueError\n",
    "\n",
    "Using a value that has the correct type but a problematic value\n",
    "\n",
    "Python gets the abstract syntax tree, and the other steps of the compiler, but doesn't run the file\n"
   ]
  },
  {
   "cell_type": "code",
   "execution_count": 2,
   "metadata": {},
   "outputs": [
    {
     "name": "stdout",
     "output_type": "stream",
     "text": [
      "The sum is: 17\n"
     ]
    }
   ],
   "source": [
    "num1 = 2\n",
    "num2 = 3\n",
    "num3 = 12\n",
    "\n",
    "print(\"The sum is: \" + str(num1 + num2 + num3))"
   ]
  },
  {
   "cell_type": "markdown",
   "metadata": {},
   "source": [
    "# **When the going gets tough** \n",
    "\n",
    "- Look for the usual suspects:\n",
    "    - passed arguments to a function in correct order\n",
    "    - Misspelled a name\n",
    "    - Failed to reinitialize a variable\n",
    "- Tips to debug: \n",
    "    - Try to explain the problem to someone else\n",
    "    - Start writing the documentation\n",
    "    - Try again tommorrow "
   ]
  },
  {
   "cell_type": "markdown",
   "metadata": {},
   "source": [
    "# **Flow charts**\n",
    "\n",
    "- More than one way to go from start to end\n",
    "\n",
    "- If statement:\n",
    "\n",
    "oval -> diamond -> paralellogram -> oval\n",
    "\n"
   ]
  },
  {
   "cell_type": "code",
   "execution_count": 3,
   "metadata": {},
   "outputs": [
    {
     "name": "stdout",
     "output_type": "stream",
     "text": [
      "125\n"
     ]
    }
   ],
   "source": [
    "product = 5\n",
    "while product <= 50:\n",
    "    product *= 5\n",
    "\n",
    "print(product)"
   ]
  }
 ],
 "metadata": {
  "kernelspec": {
   "display_name": "Python 3",
   "language": "python",
   "name": "python3"
  },
  "language_info": {
   "codemirror_mode": {
    "name": "ipython",
    "version": 3
   },
   "file_extension": ".py",
   "mimetype": "text/x-python",
   "name": "python",
   "nbconvert_exporter": "python",
   "pygments_lexer": "ipython3",
   "version": "3.12.6"
  }
 },
 "nbformat": 4,
 "nbformat_minor": 2
}
