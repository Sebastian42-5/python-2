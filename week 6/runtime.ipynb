{
 "cells": [
  {
   "cell_type": "markdown",
   "metadata": {},
   "source": [
    "- We need to come up with a way that allows us to know what the runtime is \n",
    "- the input size is the number of elements that we have in a list for example\n",
    "- primitive operation: comparison, assignment, addition, return statements, printing, function call, etc\n",
    "- current_max = lst[0] has # 2  primitive operations"
   ]
  }
 ],
 "metadata": {
  "language_info": {
   "name": "python"
  }
 },
 "nbformat": 4,
 "nbformat_minor": 2
}
