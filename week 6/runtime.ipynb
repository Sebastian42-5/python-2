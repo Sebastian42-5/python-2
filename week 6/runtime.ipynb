{
 "cells": [
  {
   "cell_type": "markdown",
   "metadata": {},
   "source": [
    "- We need to come up with a way that allows us to know what the runtime is \n",
    "- the input size is the number of elements that we have in a list for example\n",
    "- primitive operation: comparison, assignment, addition, return statements, printing, function call, etc\n",
    "- current_max = lst[0] has # 2  primitive operations"
   ]
  },
  {
   "cell_type": "markdown",
   "metadata": {},
   "source": [
    "# Estimating running time\n",
    "\n",
    "- maxElement executes 7n-2 primitive operations in the worst case\n",
    "- a = fastest primitive operation\n",
    "- b = slowest primitive operation\n",
    "- Let T(n) be the worst case time for maxElement. Then, a(7n-2) <= T(n) <= b(7n-2)\n",
    "\n",
    "\n",
    "## big O\n",
    "\n",
    "- We say that f(n) is O(g(n))\n",
    "\n",
    "- O(n) is a set of elements. For example, 7n, 7n-1, 8n, 3n-1, etc.\n",
    "\n",
    "- There exists a real costant c > O s.t. f(n) < = c * g(n) for all of n > = n o\n",
    "\n",
    "- Ex: 2n+10 is O(n)\n",
    "\n",
    "- 2n + 10 < = cn\n",
    "\n",
    "- (c - 2)n > = 10\n",
    "\n",
    "- n > = 10 / (c - 2)\n",
    "\n",
    "- pick c = 3 and n 0 = 10\n",
    "\n",
    "\n",
    "\n",
    "\n",
    "\n",
    "\n"
   ]
  },
  {
   "cell_type": "markdown",
   "metadata": {},
   "source": [
    "# Counting primitive operations: Example\n"
   ]
  },
  {
   "cell_type": "code",
   "execution_count": 1,
   "metadata": {},
   "outputs": [],
   "source": [
    "def maxElement(lst, n):\n",
    "\n",
    "    current_max = lst[0]  # n \n",
    "\n",
    "    for i in range(1, n): # 3(n-1) + 2\n",
    "        if lst[i] > current_max: # 2(n-1)\n",
    "            current_max = lst[i] # 2(n-1)\n",
    "    return  # 1\n",
    "\n",
    "        # Total:  7n-2 \n",
    "\n",
    "\n",
    "\n",
    "    \n"
   ]
  }
 ],
 "metadata": {
  "kernelspec": {
   "display_name": "Python 3",
   "language": "python",
   "name": "python3"
  },
  "language_info": {
   "codemirror_mode": {
    "name": "ipython",
    "version": 3
   },
   "file_extension": ".py",
   "mimetype": "text/x-python",
   "name": "python",
   "nbconvert_exporter": "python",
   "pygments_lexer": "ipython3",
   "version": "3.12.6"
  }
 },
 "nbformat": 4,
 "nbformat_minor": 2
}
