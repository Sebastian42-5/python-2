{
 "cells": [
  {
   "cell_type": "markdown",
   "metadata": {},
   "source": [
    "## List example: sort a list of lists\n",
    "\n",
    "- given a list of lists, sort each sublist in decreasing sorting oder\n",
    "- cannot use any built in functions \n",
    "- must define a sort function that allows to sort both in increasing and decreasing order\n",
    "- write your sort algorithm the only sclicing allowerd is that when it's done you can slice your list to reverse it if you want it to decrease or increase"
   ]
  },
  {
   "cell_type": "code",
   "execution_count": null,
   "metadata": {},
   "outputs": [],
   "source": [
    "lst = [ [3, 78, 4. 5], [12. 33, 77, 5], [3, 90, 0], [78, 5, 4, 3]]"
   ]
  },
  {
   "cell_type": "code",
   "execution_count": 8,
   "metadata": {},
   "outputs": [
    {
     "name": "stdout",
     "output_type": "stream",
     "text": [
      "[[78, 4, 3, 5], [33, 77, 12, 5], [90, 3, 0], [78, 5, 4, 3]]\n"
     ]
    }
   ],
   "source": [
    "def sort(lst):\n",
    "    if len(lst) <= 1:\n",
    "        return lst\n",
    "    decreasing = False\n",
    "    user_choice = input(\"Increasing (2) or decreasing (3) ?: \")\n",
    "    user_choice = int(user_choice)\n",
    "    for lists in lst:\n",
    "        for i in range(1, len((lists)) - 1):\n",
    "            if lists[i - 1] < lists[i]:\n",
    "                lists[i - 1], lists[i] = lists[i], lists[i - 1]\n",
    "                sorted = True\n",
    "    if user_choice == 3:\n",
    "        decreasing = True \n",
    "    elif user_choice == 2:\n",
    "        for lists in lst:\n",
    "            lists = lists[::-1]\n",
    "    return lst\n",
    "    \n",
    "\n",
    "def loop(lst):\n",
    "    sorted = False\n",
    "    lst = sort(lst) \n",
    "    while True:\n",
    "        for lists in lst:\n",
    "            lst[lists] = sort(lst)\n",
    "        return lst\n",
    "    \n",
    "    \n",
    "print(sort([[3, 78, 4, 5], [12, 33, 77, 5], [3, 90, 0], [78, 4, 5, 3]]))\n",
    "\n",
    "\n",
    "\n",
    "\n",
    "\n",
    "\n"
   ]
  },
  {
   "cell_type": "code",
   "execution_count": 11,
   "metadata": {},
   "outputs": [
    {
     "ename": "TypeError",
     "evalue": "object of type 'int' has no len()",
     "output_type": "error",
     "traceback": [
      "\u001b[1;31m---------------------------------------------------------------------------\u001b[0m",
      "\u001b[1;31mTypeError\u001b[0m                                 Traceback (most recent call last)",
      "Cell \u001b[1;32mIn[11], line 23\u001b[0m\n\u001b[0;32m     19\u001b[0m         lst[i] \u001b[38;5;241m=\u001b[39m insertionSort(lst[i], \u001b[38;5;28;01mFalse\u001b[39;00m)\n\u001b[0;32m     21\u001b[0m     \u001b[38;5;28;01mreturn\u001b[39;00m lst\n\u001b[1;32m---> 23\u001b[0m \u001b[38;5;28mprint\u001b[39m(\u001b[43minsertionSort\u001b[49m\u001b[43m(\u001b[49m\u001b[43m[\u001b[49m\u001b[43m[\u001b[49m\u001b[38;5;241;43m3\u001b[39;49m\u001b[43m,\u001b[49m\u001b[43m \u001b[49m\u001b[38;5;241;43m78\u001b[39;49m\u001b[43m,\u001b[49m\u001b[43m \u001b[49m\u001b[38;5;241;43m4\u001b[39;49m\u001b[43m,\u001b[49m\u001b[43m \u001b[49m\u001b[38;5;241;43m5\u001b[39;49m\u001b[43m]\u001b[49m\u001b[43m,\u001b[49m\u001b[43m \u001b[49m\u001b[43m[\u001b[49m\u001b[38;5;241;43m12\u001b[39;49m\u001b[43m,\u001b[49m\u001b[43m \u001b[49m\u001b[38;5;241;43m33\u001b[39;49m\u001b[43m,\u001b[49m\u001b[43m \u001b[49m\u001b[38;5;241;43m77\u001b[39;49m\u001b[43m,\u001b[49m\u001b[43m \u001b[49m\u001b[38;5;241;43m5\u001b[39;49m\u001b[43m]\u001b[49m\u001b[43m,\u001b[49m\u001b[43m \u001b[49m\u001b[43m[\u001b[49m\u001b[38;5;241;43m3\u001b[39;49m\u001b[43m,\u001b[49m\u001b[43m \u001b[49m\u001b[38;5;241;43m90\u001b[39;49m\u001b[43m,\u001b[49m\u001b[43m \u001b[49m\u001b[38;5;241;43m0\u001b[39;49m\u001b[43m]\u001b[49m\u001b[43m,\u001b[49m\u001b[43m \u001b[49m\u001b[43m[\u001b[49m\u001b[38;5;241;43m78\u001b[39;49m\u001b[43m,\u001b[49m\u001b[43m \u001b[49m\u001b[38;5;241;43m4\u001b[39;49m\u001b[43m,\u001b[49m\u001b[43m \u001b[49m\u001b[38;5;241;43m5\u001b[39;49m\u001b[43m,\u001b[49m\u001b[43m \u001b[49m\u001b[38;5;241;43m3\u001b[39;49m\u001b[43m]\u001b[49m\u001b[43m]\u001b[49m\u001b[43m,\u001b[49m\u001b[43m \u001b[49m\u001b[38;5;28;43;01mTrue\u001b[39;49;00m\u001b[43m)\u001b[49m)\n",
      "Cell \u001b[1;32mIn[11], line 19\u001b[0m, in \u001b[0;36minsertionSort\u001b[1;34m(lst, mode)\u001b[0m\n\u001b[0;32m     16\u001b[0m     lst \u001b[38;5;241m=\u001b[39m lst[::\u001b[38;5;241m-\u001b[39m\u001b[38;5;241m1\u001b[39m]\n\u001b[0;32m     18\u001b[0m \u001b[38;5;28;01mfor\u001b[39;00m i \u001b[38;5;129;01min\u001b[39;00m \u001b[38;5;28mrange\u001b[39m(\u001b[38;5;28mlen\u001b[39m(lst)):\n\u001b[1;32m---> 19\u001b[0m     lst[i] \u001b[38;5;241m=\u001b[39m \u001b[43minsertionSort\u001b[49m\u001b[43m(\u001b[49m\u001b[43mlst\u001b[49m\u001b[43m[\u001b[49m\u001b[43mi\u001b[49m\u001b[43m]\u001b[49m\u001b[43m,\u001b[49m\u001b[43m \u001b[49m\u001b[38;5;28;43;01mFalse\u001b[39;49;00m\u001b[43m)\u001b[49m\n\u001b[0;32m     21\u001b[0m \u001b[38;5;28;01mreturn\u001b[39;00m lst\n",
      "Cell \u001b[1;32mIn[11], line 19\u001b[0m, in \u001b[0;36minsertionSort\u001b[1;34m(lst, mode)\u001b[0m\n\u001b[0;32m     16\u001b[0m     lst \u001b[38;5;241m=\u001b[39m lst[::\u001b[38;5;241m-\u001b[39m\u001b[38;5;241m1\u001b[39m]\n\u001b[0;32m     18\u001b[0m \u001b[38;5;28;01mfor\u001b[39;00m i \u001b[38;5;129;01min\u001b[39;00m \u001b[38;5;28mrange\u001b[39m(\u001b[38;5;28mlen\u001b[39m(lst)):\n\u001b[1;32m---> 19\u001b[0m     lst[i] \u001b[38;5;241m=\u001b[39m \u001b[43minsertionSort\u001b[49m\u001b[43m(\u001b[49m\u001b[43mlst\u001b[49m\u001b[43m[\u001b[49m\u001b[43mi\u001b[49m\u001b[43m]\u001b[49m\u001b[43m,\u001b[49m\u001b[43m \u001b[49m\u001b[38;5;28;43;01mFalse\u001b[39;49;00m\u001b[43m)\u001b[49m\n\u001b[0;32m     21\u001b[0m \u001b[38;5;28;01mreturn\u001b[39;00m lst\n",
      "Cell \u001b[1;32mIn[11], line 2\u001b[0m, in \u001b[0;36minsertionSort\u001b[1;34m(lst, mode)\u001b[0m\n\u001b[0;32m      1\u001b[0m \u001b[38;5;28;01mdef\u001b[39;00m\u001b[38;5;250m \u001b[39m\u001b[38;5;21minsertionSort\u001b[39m(lst, mode):\n\u001b[1;32m----> 2\u001b[0m     n \u001b[38;5;241m=\u001b[39m \u001b[38;5;28;43mlen\u001b[39;49m\u001b[43m(\u001b[49m\u001b[43mlst\u001b[49m\u001b[43m)\u001b[49m\n\u001b[0;32m      4\u001b[0m     \u001b[38;5;28;01mif\u001b[39;00m n \u001b[38;5;241m<\u001b[39m\u001b[38;5;241m=\u001b[39m \u001b[38;5;241m1\u001b[39m:   \u001b[38;5;66;03m# list of at most one element\u001b[39;00m\n\u001b[0;32m      5\u001b[0m         \u001b[38;5;28;01mreturn\u001b[39;00m lst\n",
      "\u001b[1;31mTypeError\u001b[0m: object of type 'int' has no len()"
     ]
    }
   ],
   "source": [
    "def insertionSort(lst, mode):\n",
    "    n = len(lst)\n",
    "\n",
    "    if n <= 1:   # list of at most one element\n",
    "        return lst\n",
    "\n",
    "    for i in range(1, n):\n",
    "        elem = lst[i]\n",
    "        j = i - 1\n",
    "        while j >= 0 and elem < lst[j]:\n",
    "            lst[j + 1] = lst[j]\n",
    "            j -= 1\n",
    "        lst[j + 1] = elem\n",
    "    \n",
    "    if not mode: # decreasing order\n",
    "        lst = lst[::-1]\n",
    "\n",
    "    for i in range(len(lst)):\n",
    "        lst[i] = insertionSort(lst[i], False)\n",
    "\n",
    "    return lst\n",
    "\n",
    "print(insertionSort([[3, 78, 4, 5], [12, 33, 77, 5], [3, 90, 0], [78, 4, 5, 3]], True))"
   ]
  },
  {
   "cell_type": "markdown",
   "metadata": {},
   "source": [
    "# List example: Transpose a matrix\n",
    "\n",
    "- given a list of lists (i.e. a matrix), write Python, write Python code to tranpose it \n",
    "- cannot use any built-in function\n",
    "- you may assume that all sublists are of the same length \n",
    "- do the same thing using list comprehensions\n",
    "\n",
    "\n",
    "[[1, 2],\n",
    "[3, 4], \n",
    "[5, 6]]\n",
    "\n",
    "returns [ [1, 3, 5], \n",
    "        [2, 4, 6]]"
   ]
  },
  {
   "cell_type": "code",
   "execution_count": null,
   "metadata": {},
   "outputs": [],
   "source": [
    "def transpose(lst):\n",
    "    matrix = []\n",
    "    for i in range(len(lst)):\n",
    "        for j in range(len(lst[i])):\n",
    "            matrix += lst[i][j]\n",
    "\n",
    "\n",
    "\n",
    "\n"
   ]
  },
  {
   "cell_type": "code",
   "execution_count": null,
   "metadata": {},
   "outputs": [],
   "source": [
    "matrix = "
   ]
  },
  {
   "cell_type": "code",
   "execution_count": null,
   "metadata": {},
   "outputs": [],
   "source": [
    "lst = [1, 2374, 285, 98, 7]\n",
    "\n",
    "n = len(lst)\n",
    "\n",
    "current_max = lst[0]  # 2\n",
    "\n",
    "for i in range(1, len(lst)): # n + n + n\n",
    "    if lst[i] > current_max: # 2(n - 1)\n",
    "        current_max = lst[i] # 2(n - 1)\n",
    "\n",
    "print(current_max)  # 1\n",
    "                    # 7n - 1\n",
    "                    # linear time? "
   ]
  },
  {
   "cell_type": "markdown",
   "metadata": {},
   "source": [
    "a = shortest time it takes for a primitive operation\n",
    "b = longest time it takes for a primitive operation\n",
    "\n",
    "$t(n)$ is the run-tome of the algorithm in terms of the input size $n$\n",
    "\n",
    "$a \\codt (7n-1) \\leq T(n) \\leq b * (7n-1)\n",
    "\n",
    "The runtime of this algorithm is linear time "
   ]
  }
 ],
 "metadata": {
  "kernelspec": {
   "display_name": "Python 3",
   "language": "python",
   "name": "python3"
  },
  "language_info": {
   "codemirror_mode": {
    "name": "ipython",
    "version": 3
   },
   "file_extension": ".py",
   "mimetype": "text/x-python",
   "name": "python",
   "nbconvert_exporter": "python",
   "pygments_lexer": "ipython3",
   "version": "3.12.6"
  }
 },
 "nbformat": 4,
 "nbformat_minor": 2
}
