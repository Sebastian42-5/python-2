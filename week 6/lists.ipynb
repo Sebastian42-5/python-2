{
 "cells": [
  {
   "cell_type": "markdown",
   "metadata": {},
   "source": [
    "## List example: sort a list of lists\n",
    "\n",
    "- given a list of lists, sort each sublist in decreasing sorting oder\n",
    "- cannot use any built in functions \n",
    "- must define a sort function that allows to sort both in increasing and decreasing order\n",
    "- write your sort algorithm the only sclicing allowerd is that when it's done you can slice your list to reverse it if you want it to decrease or increase"
   ]
  },
  {
   "cell_type": "code",
   "execution_count": null,
   "metadata": {},
   "outputs": [],
   "source": [
    "lst = [ [3, 78, 4. 5], [12. 33, 77, 5], [3, 90, 0], [78, 5, 4, 3]]"
   ]
  },
  {
   "cell_type": "code",
   "execution_count": 38,
   "metadata": {},
   "outputs": [
    {
     "name": "stdout",
     "output_type": "stream",
     "text": [
      "[[3, 78, 4, 5], [3, 90, 0], [12, 33, 77, 5], [78, 4, 5, 3]]\n"
     ]
    }
   ],
   "source": [
    "def bubble_sort(lst, decreasing = False):\n",
    "    if len(lst) <= 1:\n",
    "        return lst\n",
    "    \n",
    "    # user_choice = input(\"Increasing (2) or decreasing (3) ?: \")\n",
    "    # user_choice = int(user_choice)\n",
    "\n",
    "    for i in range(len(lst)):\n",
    "        for j in range(0, len(lst) - i - 1):\n",
    "            if (not decreasing and lst[j] > lst[j + 1]) or (decreasing and lst[j] < lst[j + 1]):\n",
    "                lst[j], lst[j + 1] = lst[j + 1], lst[j]\n",
    "    return lst\n",
    "\n",
    "    # if user_choice == 3:\n",
    "    #     decreasing = True\n",
    "    \n",
    "\n",
    "def loop(lst):\n",
    "    sorted = False\n",
    "    lst = bubble_sort(lst) \n",
    "    while True:\n",
    "        for lists in lst:\n",
    "            lst[lists] = bubble_sort(lst)\n",
    "        return lst\n",
    "    \n",
    "    \n",
    "print(bubble_sort([[3, 78, 4, 5], [12, 33, 77, 5], [3, 90, 0], [78, 4, 5, 3]]))\n",
    "\n",
    "\n"
   ]
  },
  {
   "cell_type": "code",
   "execution_count": 37,
   "metadata": {},
   "outputs": [
    {
     "name": "stdout",
     "output_type": "stream",
     "text": [
      "[[55, 6, 57, 8], [77, 3, 23, 4]]\n"
     ]
    }
   ],
   "source": [
    "def insertionSort(lst, mode):\n",
    "\n",
    "    if len(lst) <= 1:   # list of at most one element\n",
    "        return lst\n",
    "\n",
    "    for i in range(1, len(lst)):\n",
    "        elem = lst[i]\n",
    "        j = i - 1\n",
    "        while j >= 0 and elem < lst[j]:\n",
    "            lst[j + 1] = lst[j]\n",
    "            j -= 1\n",
    "        lst[j + 1] = elem\n",
    "    \n",
    "    if not mode: # decreasing order\n",
    "        lst = lst[::-1]\n",
    "\n",
    "    return lst, mode\n",
    "    \n",
    "def loop(lst, mode):\n",
    "    for element in lst:\n",
    "        element = insertionSort(lst, False)\n",
    "    return lst\n",
    "\n",
    "\n",
    "lst_attempt = loop([[77, 3, 23, 4], [55, 6, 57, 8]], False)\n",
    "\n",
    "print(lst_attempt)"
   ]
  },
  {
   "cell_type": "markdown",
   "metadata": {},
   "source": [
    "# List example: Transpose a matrix\n",
    "\n",
    "- given a list of lists (i.e. a matrix), write Python, write Python code to tranpose it \n",
    "- cannot use any built-in function\n",
    "- you may assume that all sublists are of the same length \n",
    "- do the same thing using list comprehensions\n",
    "\n",
    "\n",
    "[[1, 2],\n",
    "[3, 4], \n",
    "[5, 6]]\n",
    "\n",
    "returns [ [1, 3, 5], \n",
    "        [2, 4, 6]]"
   ]
  },
  {
   "cell_type": "code",
   "execution_count": 9,
   "metadata": {},
   "outputs": [
    {
     "name": "stdout",
     "output_type": "stream",
     "text": [
      "[1, 3, 5]\n",
      "[2, 4, 6]\n"
     ]
    }
   ],
   "source": [
    "def transpose_matrix(matrix):\n",
    "\n",
    "    rows = len(matrix)\n",
    "    cols = len(matrix[0])\n",
    "\n",
    "    transposed = [[0 for _ in range(rows)] for _ in range(cols)]\n",
    "\n",
    "    for i in range(rows):\n",
    "        for j in range(cols):\n",
    "            transposed[j][i] = matrix[i][j]\n",
    "\n",
    "    return transposed\n",
    "\n",
    "original_matrix = [\n",
    "    [1, 2],\n",
    "    [3, 4],\n",
    "    [5, 6]\n",
    "]\n",
    "\n",
    "result = transpose_matrix(original_matrix)\n",
    "for row in result:\n",
    "    print(row)\n",
    "\n"
   ]
  },
  {
   "cell_type": "code",
   "execution_count": 19,
   "metadata": {},
   "outputs": [
    {
     "name": "stdout",
     "output_type": "stream",
     "text": [
      "[1, 3, 5]\n",
      "[2, 4, 6]\n"
     ]
    }
   ],
   "source": [
    "def transpose(matrix):\n",
    "    return [[matrix[i][j] for i in range(len(matrix))] for j in range(len(matrix[0]))]\n",
    "\n",
    "original_matrix = [\n",
    "    [1, 2],\n",
    "    [3, 4],\n",
    "    [5, 6]\n",
    "]\n",
    "\n",
    "result = transpose(original_matrix)\n",
    "for row in result:\n",
    "    print(row)"
   ]
  },
  {
   "cell_type": "code",
   "execution_count": null,
   "metadata": {},
   "outputs": [],
   "source": [
    "lst = [1, 2374, 285, 98, 7]\n",
    "\n",
    "n = len(lst)\n",
    "\n",
    "current_max = lst[0]  # 2\n",
    "\n",
    "for i in range(1, len(lst)): # n + n + n\n",
    "    if lst[i] > current_max: # 2(n - 1)\n",
    "        current_max = lst[i] # 2(n - 1)\n",
    "\n",
    "print(current_max)  # 1\n",
    "                    # 7n - 1\n",
    "                    # linear time? "
   ]
  },
  {
   "cell_type": "markdown",
   "metadata": {},
   "source": [
    "a = shortest time it takes for a primitive operation\n",
    "b = longest time it takes for a primitive operation\n",
    "\n",
    "$t(n)$ is the run-tome of the algorithm in terms of the input size $n$\n",
    "\n",
    "$a \\codt (7n-1) \\leq T(n) \\leq b * (7n-1)\n",
    "\n",
    "The runtime of this algorithm is linear time "
   ]
  }
 ],
 "metadata": {
  "kernelspec": {
   "display_name": "Python 3",
   "language": "python",
   "name": "python3"
  },
  "language_info": {
   "codemirror_mode": {
    "name": "ipython",
    "version": 3
   },
   "file_extension": ".py",
   "mimetype": "text/x-python",
   "name": "python",
   "nbconvert_exporter": "python",
   "pygments_lexer": "ipython3",
   "version": "3.12.5"
  }
 },
 "nbformat": 4,
 "nbformat_minor": 2
}
