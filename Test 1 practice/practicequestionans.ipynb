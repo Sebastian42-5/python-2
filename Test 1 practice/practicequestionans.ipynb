{
 "cells": [
  {
   "cell_type": "code",
   "execution_count": 2,
   "metadata": {},
   "outputs": [
    {
     "name": "stdout",
     "output_type": "stream",
     "text": [
      "{'Player1': [[[2, 1, 1], [2, 2, 1], [1, 2, 1]], [[1, 1, 2], [1, 1, 1], [1, 2, 1]], [[1, 1, 1], [1, 2, 2], [1, 1, 2]]], 'Player2': [[[1, 1, 2], [1, 2, 2], [1, 2, 2]], [[2, 1, 1], [1, 2, 2], [2, 2, 2]], [[2, 2, 2], [1, 1, 1], [2, 2, 2]], [[2, 1, 2], [2, 1, 1], [2, 2, 1]]]}\n",
      "              Type  Count\n",
      "0  Horizontal wins      6\n",
      "1    Vertical wins      6\n",
      "2    Diagonal wins      2\n"
     ]
    },
    {
     "data": {
      "text/plain": [
       "<Axes: title={'center': 'Type and count of tictactoe wins'}, xlabel='Type'>"
      ]
     },
     "execution_count": 2,
     "metadata": {},
     "output_type": "execute_result"
    },
    {
     "data": {
      "image/png": "[encoded data removed]",
      "text/plain": [
       "<Figure size 640x480 with 1 Axes>"
      ]
     },
     "metadata": {},
     "output_type": "display_data"
    }
   ],
   "source": [
    "# Sebastian Soto 2432947\n",
    "\n",
    "# possible answer for question 1:\n",
    "\n",
    "\n",
    "import random \n",
    "import pandas as pd\n",
    "import matplotlib.pyplot as plt\n",
    "import numpy as np\n",
    "\n",
    "def check_win(board):\n",
    "\n",
    "    horizontalwins = 0\n",
    "    verticalwins = 0\n",
    "    diagonalwins = 0\n",
    "\n",
    "    player = None\n",
    "\n",
    "    for row in board:\n",
    "        if row[0] == row[1] == row[2]: # horizontal win\n",
    "            horizontalwins += 1\n",
    "            if row[0] == 1:\n",
    "                player = 'Player1'\n",
    "            else:\n",
    "                player = 'Player2'\n",
    "    for col in range(3):\n",
    "        if board[0][col] == board[1][col] == board[2][col]: # vertical win \n",
    "            verticalwins += 1\n",
    "            if board[0][col] == 1:\n",
    "                player = 'Player1'\n",
    "            else:\n",
    "                player = 'Player2'\n",
    "    if board[0][0] == board[1][1] == board[2][2]: # front diagonal win\n",
    "        diagonalwins += 1\n",
    "        if board[0][0] == 1:\n",
    "            player = 'Player1'\n",
    "        else:\n",
    "            player = 'Player2'\n",
    "    \n",
    "    elif board[0][2] == board[1][1] == board[2][0]: # back diagonal win\n",
    "        diagonalwins += 1\n",
    "        if board[0][0] == 1:\n",
    "            player = 'Player1'\n",
    "        else:\n",
    "            player = 'Player2'\n",
    "\n",
    "    return player, horizontalwins, verticalwins, diagonalwins\n",
    "\n",
    "\n",
    "def create_game():\n",
    "\n",
    "    games = {'Player1': [], 'Player2': []}\n",
    "\n",
    "    total_horizontal = 0\n",
    "    total_vertical = 0\n",
    "    total_diagonal = 0\n",
    "\n",
    "    for _ in range(n):\n",
    "        \n",
    "        board = [[random.randint(1, 2) for _ in range(3)] for _ in range(3)]\n",
    "\n",
    "        winner, h, v, d = check_win(board)\n",
    "\n",
    "        total_horizontal += h\n",
    "        total_vertical += v\n",
    "        total_diagonal += d\n",
    "\n",
    "\n",
    "        if winner:\n",
    "            games[winner].append(board)\n",
    "\n",
    "    return games, total_horizontal, total_vertical, total_diagonal\n",
    "\n",
    "\n",
    "n = int(input('Enter the number of desired games to play: '))\n",
    "\n",
    "games, h, v, d = create_game()\n",
    "\n",
    "\n",
    "print(games)\n",
    "\n",
    "hvd_df = pd.DataFrame({'Type': ['Horizontal wins', 'Vertical wins', 'Diagonal wins'], 'Count': [h, v, d]})\n",
    "\n",
    "print(hvd_df)\n",
    "\n",
    "hvd_df.set_index('Type').plot(kind = 'bar', title = 'Type and count of tictactoe wins', ylim = (0, n + 3), color = 'orange')\n",
    "\n"
   ]
  },
  {
   "cell_type": "code",
   "execution_count": null,
   "metadata": {},
   "outputs": [],
   "source": [
    "# possible answer for question 2:\n",
    "\n",
    "def fixingCookbook(d: dict):\n",
    "\n",
    "    reversed_dict = dict(reversed(list(d.items())))\n",
    "\n",
    "    for key in reversed_dict:\n",
    "        reversed_dict[key] -= 2\n",
    "\n",
    "    return reversed_dict, list(reversed_dict.keys())\n",
    "\n",
    "# print(fixingCookbook({'bake': 5, 'cook': 4, 'water': 3}))\n"
   ]
  }
 ],
 "metadata": {
  "kernelspec": {
   "display_name": "Python 3",
   "language": "python",
   "name": "python3"
  },
  "language_info": {
   "codemirror_mode": {
    "name": "ipython",
    "version": 3
   },
   "file_extension": ".py",
   "mimetype": "text/x-python",
   "name": "python",
   "nbconvert_exporter": "python",
   "pygments_lexer": "ipython3",
   "version": "3.12.5"
  }
 },
 "nbformat": 4,
 "nbformat_minor": 2
}
