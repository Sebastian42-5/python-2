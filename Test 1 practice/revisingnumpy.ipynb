{
 "cells": [
  {
   "cell_type": "code",
   "execution_count": null,
   "metadata": {},
   "outputs": [
    {
     "name": "stdout",
     "output_type": "stream",
     "text": [
      "[1 2 3 4 5 6 7 8 9]\n"
     ]
    }
   ],
   "source": [
    "import numpy as np\n",
    "\n",
    "a = np.zeros(4)\n",
    "\n",
    "b = np.random.randint(1, 3, (3, 3))\n",
    "\n",
    "c = np.prod(b)\n",
    "\n",
    "arr = np.arange(1, 10)\n",
    "\n",
    "# print(arr)\n",
    "\n",
    "\n",
    "\n",
    "# you can do a += (6, 7) if a is a list but not a = [1, 2, 3] b = (6, 7) c = a + b\n",
    "\n",
    "\n",
    "# (6) counts as an int not a tuple\n",
    "# (6, ) is actually a tuple\n",
    "\n",
    "# t = (1, 2, [99, 3])\n",
    "\n",
    "# num = t[2][:]\n",
    "# num[1] = 0\n",
    "\n",
    "# print(t)\n",
    "\n",
    "# this creates a copy and does not modify the list inside the tuple t\n",
    "\n",
    "# you can do max(str) it will give you the letter of highest order from a to z (bny ascii)\n"
   ]
  }
 ],
 "metadata": {
  "kernelspec": {
   "display_name": "Python 3",
   "language": "python",
   "name": "python3"
  },
  "language_info": {
   "codemirror_mode": {
    "name": "ipython",
    "version": 3
   },
   "file_extension": ".py",
   "mimetype": "text/x-python",
   "name": "python",
   "nbconvert_exporter": "python",
   "pygments_lexer": "ipython3",
   "version": "3.12.5"
  }
 },
 "nbformat": 4,
 "nbformat_minor": 2
}
