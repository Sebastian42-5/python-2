{
 "cells": [
  {
   "cell_type": "markdown",
   "id": "2ce4362a",
   "metadata": {},
   "source": [
    "**Objects**\n",
    "\n",
    "- Consider storing student names, year, program, and most recent three marks. We can use nested lists\n",
    "\n",
    "- Imposing order on elements, which is unnecessary. Difficult to support multiple types of students (by program, by year)\n",
    "\n",
    "- What if you had hundreds of records?\n",
    "\n",
    "- Elements have no name \n",
    "\n",
    "\n",
    "What if we use dictionaries?\n",
    "\n",
    "- Still cannot support different kinds of students \n",
    "\n",
    "- We can define a new data type \n",
    "\n",
    "- You can create your own methods \n",
    "\n",
    "Python is an objected-oriented programming\n",
    "\n",
    "- Object come from classes\n",
    "\n",
    "- Variables are snake_case functions are camelCase class names are PascalCase\n",
    "\n",
    "- class names are nounds \n",
    "\n",
    "- methods are actions specific to each object. Behaviours of the object.\n",
    "\n",
    "\n",
    "- _init__() is known as the constructor, since it constructs an instance fo the object\n",
    "\n",
    "Class name: Animal \n",
    "\n",
    "Possible methods: sleep, walk, eat\n",
    "\n",
    "Possible attributes: leg, color\n",
    "\n",
    "__init__(self, legs): create an instance of the method\n",
    "\n",
    "then, anim = Animal(4) you don't need to pass the argument \n",
    "\n",
    "\n",
    "\n",
    "\n"
   ]
  }
 ],
 "metadata": {
  "language_info": {
   "name": "python"
  }
 },
 "nbformat": 4,
 "nbformat_minor": 5
}
