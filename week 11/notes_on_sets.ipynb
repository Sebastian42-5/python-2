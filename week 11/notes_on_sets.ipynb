{
 "cells": [
  {
   "cell_type": "markdown",
   "id": "85c9aeb0",
   "metadata": {},
   "source": [
    "discard removes the element and then returns the set \n",
    "\n",
    "remove will cause an error if the element is not in the set\n",
    "\n",
    "pop will return the element of the set, not the set itself. \n",
    "\n",
    "\n",
    "That is the difference between discard, remove, and pop"
   ]
  }
 ],
 "metadata": {
  "language_info": {
   "name": "python"
  }
 },
 "nbformat": 4,
 "nbformat_minor": 5
}
