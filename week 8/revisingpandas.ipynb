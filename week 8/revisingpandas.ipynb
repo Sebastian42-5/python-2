{
 "cells": [
  {
   "cell_type": "code",
   "execution_count": null,
   "metadata": {},
   "outputs": [
    {
     "name": "stdout",
     "output_type": "stream",
     "text": [
      "21.428571428571427\n"
     ]
    }
   ],
   "source": [
    "import pandas as pd\n",
    "\n",
    "import numpy as np\n",
    "\n",
    "import matplotlib.pyplot as plt\n",
    "\n",
    "\n",
    "# pd.read_csv('tictactoe_df.csv')\n",
    "\n",
    "# tictactoe_df.head()\n",
    "\n",
    "# a single column is a series object \n",
    "\n",
    "age_info = [19, 18, 19, 20, 23, 25, 26]\n",
    "\n",
    "siblings_info = [0, 2, 1, 4, 5, 3, 2]\n",
    "\n",
    "life_info = [0, 1, 0, 0, 1, 1, 0]\n",
    "\n",
    "info = {'Age': age_info, 'Siblings': siblings_info, 'Life': life_info}\n",
    "\n",
    "info_df = pd.DataFrame(info)\n",
    "\n",
    "info_df['Age'].value_counts()[:3]\n",
    "\n",
    "alive_filter = info_df['Life'] == 0\n",
    "\n",
    "alive_filter\n",
    "\n",
    "info_df.to_csv('Info.csv', encoding='utf-8', index=False)\n",
    "\n",
    "\n",
    "# age_mean = info_df['Age'].mean().round(2)\n",
    "\n",
    "age = np.mean(info_df['Age'])\n",
    "\n",
    "print(age)\n",
    "\n",
    "\n",
    "\n",
    "\n",
    "# isna() and dropna() fillna('a')\n",
    "\n",
    "\n",
    "# .tail(5) the last 3 rows\n",
    " \n",
    "\n",
    "# plt.hist()\n",
    "\n",
    "# .rename(columns = {'Hours': 'Hours Studied'})\n",
    "\n",
    "\n",
    "\n"
   ]
  }
 ],
 "metadata": {
  "kernelspec": {
   "display_name": "Python 3",
   "language": "python",
   "name": "python3"
  },
  "language_info": {
   "codemirror_mode": {
    "name": "ipython",
    "version": 3
   },
   "file_extension": ".py",
   "mimetype": "text/x-python",
   "name": "python",
   "nbconvert_exporter": "python",
   "pygments_lexer": "ipython3",
   "version": "3.12.5"
  }
 },
 "nbformat": 4,
 "nbformat_minor": 2
}
